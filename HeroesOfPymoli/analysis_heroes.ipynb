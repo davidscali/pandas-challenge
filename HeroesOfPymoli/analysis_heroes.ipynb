{
 "cells": [
  {
   "cell_type": "code",
   "execution_count": null,
   "metadata": {},
   "outputs": [],
   "source": [
    "# import dependencies \n",
    "import pandas as pd\n",
    "import numpy as np\n",
    "\n",
    "# read a file\n",
    "data_file = pd.read_csv(\"C:\\workspace\\Python Practies\\pandas-challenge\\HeroesOfPymoli\\Resources\\purchase_data-checkpoint.csv\", header=0)\n",
    "\n",
    "print(data_file)"
   ]
  },
  {
   "cell_type": "markdown",
   "metadata": {},
   "source": [
    "שלב ראשון אני רוצה לשכפל את הטבלה "
   ]
  },
  {
   "cell_type": "code",
   "execution_count": null,
   "metadata": {},
   "outputs": [],
   "source": [
    "data_purchase = data_file\n",
    "print(data_purchase)"
   ]
  },
  {
   "cell_type": "markdown",
   "metadata": {},
   "source": [
    "לאחר מכן אני רוצה לקבל תמונה על הנתונים "
   ]
  },
  {
   "cell_type": "code",
   "execution_count": null,
   "metadata": {},
   "outputs": [],
   "source": [
    "dfh = data_purchase.head()\n",
    "# print(dfh)\n",
    "dfi = data_purchase.info()\n",
    "# print(dfi)\n",
    "dfd = data_purchase.describe()\n"
   ]
  },
  {
   "cell_type": "markdown",
   "metadata": {},
   "source": [
    "Claening the dataset - ניקוי הנתונים לפי השלבים הבאים \n"
   ]
  },
  {
   "cell_type": "markdown",
   "metadata": {},
   "source": [
    "1.\tRemove duplicate data → DataFrame.drop_duplicates()\n",
    "2.\tRemove row or column not relevant →\n",
    "column:  df.drop([‘Number’], axis = 1) , row: df.drop(0)  \n",
    "3.\tHandle Missing Values → df.dropna() / df.fillna(value)\n",
    "4.\tCorrect Data Types → DataFrame.astype()\n",
    "5.\tStandardize the data → שימוש בפונקציות ליצור סטנדרט בטקסט, מספר ותאריך  (split,join)\n",
    "6.\tRemove or correct outliers → טיפול בערכים חריגים באמצעות שיטות סטטיסטיות \n",
    "\n"
   ]
  },
  {
   "cell_type": "code",
   "execution_count": null,
   "metadata": {},
   "outputs": [],
   "source": [
    "drop_duplicate = data_purchase.drop_duplicates()\n",
    "drop_na = data_purchase.dropna()\n",
    "dfi = data_purchase.head()\n",
    "print(dfi)\n"
   ]
  },
  {
   "cell_type": "markdown",
   "metadata": {},
   "source": [
    "השלב הבא - ניתוח נתונים חקרני EDA"
   ]
  },
  {
   "cell_type": "code",
   "execution_count": null,
   "metadata": {},
   "outputs": [],
   "source": [
    "mean_age = data_purchase['Age'].mean()\n",
    "median_age = data_purchase['Age'].median()\n",
    "print(mean_age)\n",
    "print(median_age)\n",
    "mean_price = data_purchase['Price'].mean()\n",
    "median_price = data_purchase['Price'].median()\n",
    "print(mean_price)\n",
    "print(median_age)\n"
   ]
  },
  {
   "cell_type": "code",
   "execution_count": null,
   "metadata": {},
   "outputs": [],
   "source": [
    "import matplotlib.pyplot as plt\n",
    "\n",
    "# Create a box plot to see if there are any outliers in the 'Price' column grouped by 'Gender'\n",
    "outliner_age = data_purchase.boxplot(column = 'Price', by='Gender')\n",
    "\n",
    "\n",
    "# Add labels and title\n",
    "plt.title('Box plot of Price by Gender')\n",
    "plt.suptitle('')  # Suppress the automatic title to avoid duplicate titles\n",
    "plt.xlabel('Gender')\n",
    "plt.ylabel('Price')\n",
    "\n",
    "plt.show()"
   ]
  },
  {
   "cell_type": "code",
   "execution_count": null,
   "metadata": {},
   "outputs": [],
   "source": [
    "outliner_age = data_purchase.boxplot(column = 'Age')\n",
    "\n",
    "\n",
    "# Add labels and title\n",
    "# plt.scatter(data_purchase.index, data_purchase['Age'])\n",
    "plt.xlabel('Index')\n",
    "plt.ylabel('Age')\n",
    "plt.title('Scatter Plot of Age')\n",
    "plt.show()"
   ]
  },
  {
   "cell_type": "markdown",
   "metadata": {},
   "source": [
    "כעת נניח ואני רואה כאן ערכים חורגים "
   ]
  },
  {
   "cell_type": "markdown",
   "metadata": {},
   "source": [
    "בעזרת מבחן Z-score\n"
   ]
  },
  {
   "cell_type": "code",
   "execution_count": null,
   "metadata": {},
   "outputs": [],
   "source": [
    "# בעזרת מבחן Z \n",
    "from scipy import stats\n",
    "\n",
    "# Calculate Z-Score for 'Age'\n",
    "z_scores = stats.zscore(data_purchase['Age'])\n",
    "\n",
    "# Define a threshold for outliers\n",
    "threshold = 3\n",
    "\n",
    "# Find outliers\n",
    "outliers = data_purchase[np.abs(z_scores) > threshold]['Age']\n",
    "\n",
    "print(\"Outliers using Z-Score:\")\n",
    "print(outliers)\n",
    "\n",
    "# Remove outliers from the original DataFrame\n",
    "filtered_data = data_purchase[np.abs(z_scores) <= threshold]\n",
    "\n",
    "# Plot boxplot of 'Age' after removing outliers\n",
    "# plt.scatter(data_purchase.index, data_purchase['Age'])\n",
    "filtered_data.boxplot(column='Age')\n",
    "plt.title('Boxplot of Age (Outliers Removed)')\n",
    "plt.show()\n"
   ]
  },
  {
   "cell_type": "markdown",
   "metadata": {},
   "source": [
    "IQR בעזרת שיטת מציאת חורגים בטווח\n"
   ]
  },
  {
   "cell_type": "code",
   "execution_count": null,
   "metadata": {},
   "outputs": [],
   "source": [
    "# Calculate Q1, Q3 and IQR\n",
    "Q1 = data_purchase['Age'].quantile(0.25)\n",
    "Q3 = data_purchase['Age'].quantile(0.75)\n",
    "IQR = Q3 - Q1\n",
    "print(Q1)\n",
    "print(Q3)\n",
    "print(IQR)\n",
    "# Define bounds\n",
    "lower_bound = Q1 - 1.5 * IQR\n",
    "upper_bound = Q3 + 1.5 * IQR\n",
    "print(lower_bound)\n",
    "print(upper_bound)\n",
    "\n",
    "filtered_data = data_purchase[(data_purchase['Age'] >= lower_bound) & (data_purchase['Age'] <= upper_bound)]\n",
    "\n",
    "\n",
    "outliner_age = filtered_data.boxplot(column = 'Age')\n",
    "# Add labels and title\n",
    "# plt.scatter(data_purchase.index, data_purchase['Age'])\n",
    "plt.xlabel('Index')\n",
    "plt.ylabel('Age')\n",
    "plt.title('Scatter Plot of Age')\n",
    "plt.show()\n"
   ]
  },
  {
   "cell_type": "code",
   "execution_count": null,
   "metadata": {},
   "outputs": [],
   "source": [
    "outliner_age = data_purchase.hist(column = 'Price', bins=30)\n",
    "\n",
    "plt.title('The Price Distribution')\n",
    "plt.suptitle('Histogrma') \n",
    "plt.xlabel('X Axis')\n",
    "plt.show()\n"
   ]
  },
  {
   "cell_type": "code",
   "execution_count": null,
   "metadata": {},
   "outputs": [],
   "source": [
    "outliner_age = data_purchase.hist(column = 'Age', bins=40)\n",
    "\n",
    "plt.title('The Age Distribution')\n",
    "plt.suptitle('Histogrma') \n",
    "plt.xlabel('X Axis')\n",
    "plt.show()\n"
   ]
  },
  {
   "cell_type": "code",
   "execution_count": null,
   "metadata": {},
   "outputs": [],
   "source": [
    "grouped_data = data_purchase.groupby('Gender')['Price'].mean().reset_index()\n",
    "\n",
    "plt.figure(figsize=(6, 6))\n",
    "plt.bar(grouped_data['Gender'], grouped_data['Price'], color=['blue', 'pink', 'red'])\n",
    "\n",
    "# Add labels and title\n",
    "plt.title('Average Price by Gender')\n",
    "plt.xlabel('Gender')\n",
    "plt.ylabel('Average Price')\n",
    "\n",
    "# Display the plot\n",
    "plt.show()"
   ]
  },
  {
   "cell_type": "markdown",
   "metadata": {},
   "source": [
    "אני רוצה להוסיף סדרה של זמנים לטבלה \n"
   ]
  },
  {
   "cell_type": "code",
   "execution_count": null,
   "metadata": {},
   "outputs": [],
   "source": [
    "def generate_random_dates(start, end, n):\n",
    "    start_u = np.datetime64(start, 'D')\n",
    "    end_u = np.datetime64(end, 'D')\n",
    "    return np.random.choice(np.arange(start_u, end_u), n)\n",
    "\n",
    "# Generating random dates\n",
    "random_dates = generate_random_dates('2023-01-01', '2023-12-31', len(data_purchase))\n",
    "\n",
    "# Adding the random dates column to the DataFrame\n",
    "data_purchase['PurchaseDate'] = random_dates\n",
    "\n",
    "# Converting 'PurchaseDate' to datetime format\n",
    "data_purchase['PurchaseDate'] = pd.to_datetime(data_purchase['PurchaseDate'])\n",
    "\n",
    "print(data_purchase)"
   ]
  },
  {
   "cell_type": "code",
   "execution_count": null,
   "metadata": {},
   "outputs": [],
   "source": [
    "from datetime import datetime, timedelta\n",
    "\n",
    "# Getting today's date\n",
    "# reference_date = data_purchase.loc[1, 'PurchaseDate']\n",
    "reference_date_str = '2023-05-24'\n",
    "reference_date = pd.to_datetime(reference_date_str)\n",
    "\n",
    "# Calculating the date 7 days ago from today\n",
    "seven_days_ago = reference_date - timedelta(days=7)\n",
    "\n",
    "# Filtering the DataFrame to include only purchases made in the last 7 days\n",
    "recent_purchases = data_purchase[(data_purchase['PurchaseDate'] >= seven_days_ago) & \n",
    "                                 (data_purchase['PurchaseDate'] <= reference_date)]\n",
    "print(recent_purchases)\n",
    "\n",
    "min = recent_purchases['PurchaseDate'].min\n",
    "max = recent_purchases['PurchaseDate'].max\n",
    "print(min)\n",
    "print(max)\n"
   ]
  },
  {
   "cell_type": "markdown",
   "metadata": {},
   "source": [
    "#Player Count#\n",
    "\n",
    "Total Number of Players"
   ]
  },
  {
   "cell_type": "code",
   "execution_count": null,
   "metadata": {},
   "outputs": [],
   "source": [
    "UniNumberOfPlayers = len(data_purchase['SN'].unique())\n",
    "\n",
    "print(UniNumberOfPlayers)\n"
   ]
  },
  {
   "cell_type": "markdown",
   "metadata": {},
   "source": [
    "#Purchasing Analysis (Total)#\n",
    "\n",
    "- Number of Unique Items\n",
    "- Average Purchase Price\n",
    "- Total Number of Purchases\n",
    "- Total Revenue"
   ]
  },
  {
   "cell_type": "code",
   "execution_count": null,
   "metadata": {},
   "outputs": [],
   "source": [
    "import lib2to3\n",
    "UniItems = len(data_purchase['Item Name'].unique())\n",
    "print(\"the num of unique items:\",  UniItems)\n",
    "AvgtotalPrice = round(data_purchase['Price'].mean(),ndigits=3)\n",
    "print(\"The Averge pruchase price:\", AvgtotalPrice)\n",
    "NumOfPruchase = data_purchase['Purchase ID'].sum()\n",
    "print(\"the total num of pruchase:\", NumOfPruchase)\n",
    "totalrevnue = data_purchase['Price'].sum()\n",
    "print(\"The total revnue:\", totalrevnue)\n",
    "\n",
    "summaryAnalysis = pd.DataFrame({\"The num of unique items:\":[UniItems],\n",
    "                                \"The Averge pruchase price:\": [AvgtotalPrice],\n",
    "                                \"The total num of pruchase:\": [NumOfPruchase],\n",
    "                                \"The total revnue:\": [totalrevnue]\n",
    "                               })\n",
    "\n",
    "summaryAnalysis.style.format({'Average Price':\"${:,.2f}\",\n",
    "                         'Total Revenue': '${:,.2f}'})\n",
    "print(summaryAnalysis)\n"
   ]
  },
  {
   "cell_type": "markdown",
   "metadata": {},
   "source": [
    "#Gender Demographics#\n",
    "- Percentage and Count of Male Players\n",
    "- Percentage and Count of Female Players\n",
    "- Percentage and Count of Other / Non-Disclosed"
   ]
  },
  {
   "cell_type": "code",
   "execution_count": null,
   "metadata": {},
   "outputs": [],
   "source": [
    "info = data_purchase['Gender'].value_counts()\n",
    "data = pd.DataFrame(info)\n",
    "print(data)\n",
    "totalgender = data_purchase['Gender'].count()\n",
    "\n",
    "PrecentageOfMale = round((data.loc['Male','count']/totalgender)*100,ndigits=3)\n",
    "PrecentageOfFemale = round((data.loc['Female','count']/totalgender)*100,ndigits=3)\n",
    "PrecentageOfOtger = round((data.loc['Other / Non-Disclosed','count']/totalgender)*100,ndigits=3)\n",
    "test = data.iloc[2,0]\n",
    "print(test)\n",
    "\n",
    "percentage_data = pd.DataFrame({\n",
    "    'Gender': ['Male', 'Female', 'Other / Non-Disclosed'],\n",
    "    'Percentage': [PrecentageOfMale, PrecentageOfFemale, PrecentageOfOtger]\n",
    "})\n",
    "\n",
    "datagender = pd.merge(data,percentage_data,how='inner',on='Gender')\n",
    "print(datagender)\n",
    "\n",
    "\n",
    "MaleGender = data_purchase[(data_purchase['Gender'] == 'Male')]['Gender'].count()\n",
    "FemaleGender = data_purchase[(data_purchase['Gender'] == 'Female')]['Gender'].count()\n",
    "UnkonowGender = data_purchase[(data_purchase['Gender'] == 'Male')]['Gender'].count()\n",
    "# print(totalgender)\n",
    "# print(MaleGender)"
   ]
  },
  {
   "cell_type": "markdown",
   "metadata": {},
   "source": [
    "Another way"
   ]
  },
  {
   "cell_type": "code",
   "execution_count": null,
   "metadata": {},
   "outputs": [],
   "source": [
    "UniNumberOfPlayers = len(data_purchase['SN'].unique())\n",
    "\n",
    "\n",
    "Male = data_purchase.groupby(['Gender']).get_group(('Male'))\n",
    "Male_df = len(Male['SN'].unique())\n",
    "#Percentage of Male players\n",
    "Male_percent = round((Male_df/UniNumberOfPlayers)*100,2)\n",
    "Male_percent\n",
    "\n",
    "\n",
    "FeMale = data_purchase.groupby(['Gender']).get_group(('Female'))\n",
    "FeMale_df = len(FeMale['SN'].unique())\n",
    "#Percentage of FeMale players\n",
    "FeMale_percent = round((FeMale_df/UniNumberOfPlayers)*100,2)\n",
    "FeMale_percent\n",
    "\n",
    "OtherGender = data_purchase.groupby(['Gender']).get_group(('Other / Non-Disclosed'))\n",
    "Other_df = len(OtherGender['SN'].unique())\n",
    "#percentage of other \n",
    "Other_precent = round((Other_df/UniNumberOfPlayers)*100,2)\n",
    "Other_precent\n",
    "\n",
    "df_of_all = pd.DataFrame({'Prcentage of Gender': [Male_percent,FeMale_percent,Other_precent],\n",
    "                          'Count of Gender': [Male_df,FeMale_df,Other_df]\n",
    "                          })\n",
    "\n",
    "df_of_all"
   ]
  },
  {
   "cell_type": "markdown",
   "metadata": {},
   "source": [
    "#Purchasing Analysis (Gender)#\n",
    "* The below each broken by gender\n",
    "- Purchase Count\n",
    "- Average Purchase Price\n",
    "- Total Purchase Value\n",
    "- Average Purchase Total per Person by Gender"
   ]
  },
  {
   "cell_type": "code",
   "execution_count": null,
   "metadata": {},
   "outputs": [],
   "source": [
    "#Purchasing Analysis (Gender)\n",
    "\n",
    "#Pruchase Count\n",
    "PruchaseByGender = data_purchase.groupby('Gender')['Purchase ID'].count()\n",
    "PruchaseByGender\n",
    "\n",
    "# Average Pruchase Price\n",
    "AvgPruchasePrice =  round(data_purchase.groupby('Gender')['Price'].mean(),2)\n",
    "AvgPruchasePrice\n",
    "\n",
    "#Total Pruchase Price \n",
    "TotalPruchasePrice =  data_purchase.groupby('Gender')['Price'].sum()\n",
    "TotalPruchasePrice\n",
    "\n",
    "#Average Pruchase Total per person by Gender \n",
    "total_purchase_df = round((TotalPruchasePrice/PruchaseByGender),2)\n",
    "total_purchase_df\n",
    "\n",
    "\n",
    "Data_Purchasing_Analysis = pd.DataFrame({\"Pruchase Count\":PruchaseByGender,\n",
    "                                         \"Average Pruchase Price\":AvgPruchasePrice,\n",
    "                                         \"Total Pruchase Price\":TotalPruchasePrice,\n",
    "                                         \"Average Pruchase Total per person by Gender\":total_purchase_df\n",
    "\n",
    "})\n",
    "\n",
    "Data_Purchasing_Analysis"
   ]
  },
  {
   "cell_type": "markdown",
   "metadata": {},
   "source": [
    "#Age Demographics#\n",
    "- The below each broken into bins of 4 years (i.e. <10, 10-14, 15-19, etc.)\n",
    "- Purchase Count\n",
    "- Average Purchase Price\n",
    "- Total Purchase Value\n",
    "- Average Purchase Total per Person by Age Group"
   ]
  },
  {
   "cell_type": "code",
   "execution_count": null,
   "metadata": {},
   "outputs": [],
   "source": [
    "#Age Demographics\n",
    "\n",
    "# bin to hold the age value \n",
    "bins = [0,10,15,20,25,30,35,40, 45]\n",
    "age_range = [\"<10\", \"10-14\",\"15-19\", \"20-24\", \"25-29\", \"30-34\", \"35-39\", \"40+\"]\n",
    "\n",
    "data_purchase['Age bin'] = pd.cut(data_purchase['Age'],bins=bins,labels=age_range, right=False)\n",
    "data_purchase.head()\n",
    "\n",
    "# # Group by Age bin and calculate the sum of Price\n",
    "# grouped_data = data_purchase.groupby('Age bin')['Price'].sum().reindex(age_range, fill_value=0)\n",
    "\n",
    "# # Plot the bar chart\n",
    "# plt.figure(figsize=(10, 6))\n",
    "# plt.bar(grouped_data.index, grouped_data.values, color='skyblue')\n",
    "# plt.xlabel('Age Range')\n",
    "# plt.ylabel('Total Price')\n",
    "# plt.title('Total Purchase Price by Age Range')\n",
    "# plt.xticks(rotation=45)\n",
    "# plt.tight_layout()\n",
    "# plt.show()\n",
    "\n",
    "#Purchase Count\n",
    "Purchase_Count = data_purchase.groupby('Age bin')['Price'].count()\n",
    "Purchase_Count\n",
    "\n",
    "#Averge Pruchase Price \n",
    "data_bin_age = data_purchase['Age bin'].value_counts()\n",
    "number_of_pruchase = data_purchase['Item ID'].count()\n",
    "\n",
    "Avg_Bin_Age = round((data_bin_age/number_of_pruchase)*100,2)\n",
    "Avg_Bin_Age\n",
    "\n",
    "# Total Pruchase Value\n",
    "total_purchase_bin_age = (data_purchase.groupby('Age bin')['Price'].sum())\n",
    "total_purchase_bin_age\n",
    "\n",
    "data_bin_age_summary = pd.DataFrame({\"the Purchase Count \": Purchase_Count,\n",
    "                                     \"The Averge Pruchase Price\": Avg_Bin_Age\n",
    "})\n",
    "data_bin_age_summary\n",
    "\n"
   ]
  },
  {
   "cell_type": "markdown",
   "metadata": {},
   "source": [
    "#Top Spenders#\n",
    "- Identify the the top 5 spenders in the game by total purchase value, then list (in a table):\n",
    " - SN\n",
    " - Purchase Count\n",
    " - Average Purchase Price\n",
    " - Total Purchase Value"
   ]
  },
  {
   "cell_type": "code",
   "execution_count": null,
   "metadata": {},
   "outputs": [],
   "source": [
    "#Top Spenders#\n",
    "top5 = data_purchase['Price'].sort_values(ascending=False)\n",
    "top5.head(10)\n",
    "\n",
    "# Purchase Count\n",
    "pruchase_top_sn = data_purchase.groupby('SN')['Item ID'].count()\n",
    "pruchase_top_sn\n",
    "\n",
    "# Average Purchase Price\n",
    "avrege_pruchase_price = data_file.groupby('SN')['Price'].mean()\n",
    "avrege_pruchase_price\n",
    "\n",
    "# Total Purchase Value\n",
    "total_pruchase_value = data_file.groupby('SN')['Price'].sum()\n",
    "total_pruchase_value\n",
    "\n",
    "summary_data = pd.DataFrame({ \"the count of pruchase:\": pruchase_top_sn,\n",
    "                             \"the average of price\": avrege_pruchase_price, \n",
    "                             \"the total num of pruchase\": total_pruchase_value\n",
    "\n",
    "})\n",
    "\n",
    "summary_data.style.format({\"Average Purchase Price\":\"${:,.2f}\", \n",
    "                              \"Total Purchase Value\":\"${:,.2f}\"})\n",
    "\n",
    "\n",
    "select_top_5 = summary_data.sort_values(\"the total num of pruchase\" , ascending=False)\n",
    "select_top_5_only = select_top_5.head(5)\n",
    "select_top_5_only"
   ]
  },
  {
   "cell_type": "markdown",
   "metadata": {},
   "source": [
    "#Most Popular Items#\n",
    "- Identify the 5 most popular items by purchase count, then list (in a table):\n",
    "- Item ID\n",
    "- Item Name\n",
    "- Purchase Count\n",
    "- Item Price\n",
    "- Total Purchase Value"
   ]
  },
  {
   "cell_type": "code",
   "execution_count": null,
   "metadata": {},
   "outputs": [],
   "source": [
    "# - Item ID\n",
    "item_id = data_purchase.groupby(data_purchase['Item ID'])\n",
    "popular_itme = item_id['Item ID'].unique()\n",
    "popular_itme\n",
    "\n",
    "# - Item Name\n",
    "popular_name = item_id['Item Name'].unique()\n",
    "popular_name\n",
    "\n",
    "# - Purchase Count\n",
    "Pruchase_count = item_id['Item ID'].count()\n",
    "Pruchase_count\n",
    "\n",
    "# - Item Price\n",
    "item_price = item_id['Price'].unique()\n",
    "item_price\n",
    "\n",
    "# - Total Purchase Value\n",
    "total_pruchase = item_id['Price'].sum()\n",
    "total_pruchase\n",
    "\n",
    "#Data Frame \n",
    "summary_most_poplar = pd.DataFrame({\"Item ID\": popular_itme,\n",
    "                                    \"Item Name\":popular_name,\n",
    "                                    \"Count of Pruchase\": Pruchase_count,\n",
    "                                    \"Item Price\":item_price,\n",
    "                                    \"Total Pruchase\": total_pruchase\n",
    "\n",
    "})\n",
    "\n",
    "summary_most_poplar\n",
    "\n",
    "top_5_Items = summary_most_poplar.sort_values(\"Total Pruchase\", ascending=False)\n",
    "top_5_Items.head(5)"
   ]
  },
  {
   "cell_type": "markdown",
   "metadata": {},
   "source": [
    "#Most Profitable Items#\n",
    "- Identify the 5 most profitable items by total purchase value, then list (in a table):\n",
    "- Item ID\n",
    "- Item Name\n",
    "- Purchase Count\n",
    "- Item Price\n",
    "- Total Purchase Value"
   ]
  },
  {
   "cell_type": "code",
   "execution_count": null,
   "metadata": {},
   "outputs": [],
   "source": [
    "# - Item ID\n",
    "most_profitable_id = data_purchase.groupby('Item ID')['Price'].sum()\n",
    "most_profitable_id\n",
    "\n",
    "# - Item Name\n",
    "most_profitable_name = data_purchase.groupby('Item Name')['Price'].sum()\n",
    "most_profitable_name\n",
    "\n",
    "# - Purchase Count\n",
    "count_pruchase = data_purchase.groupby('Item ID')['Price'].count()\n",
    "count_pruchase\n",
    "\n",
    "summary_most_proftibale_item = pd.DataFrame({\n",
    "    \"sum of item price\": most_profitable_id,\n",
    "    \"count of items price\": count_pruchase, \n",
    "\n",
    "})\n",
    "\n",
    "summary_most_proftibale_item.sort_values(\"sum of item price\", ascending=False).head(5)"
   ]
  }
 ],
 "metadata": {
  "kernelspec": {
   "display_name": "Python 3",
   "language": "python",
   "name": "python3"
  },
  "language_info": {
   "codemirror_mode": {
    "name": "ipython",
    "version": 3
   },
   "file_extension": ".py",
   "mimetype": "text/x-python",
   "name": "python",
   "nbconvert_exporter": "python",
   "pygments_lexer": "ipython3",
   "version": "3.12.1"
  }
 },
 "nbformat": 4,
 "nbformat_minor": 2
}
